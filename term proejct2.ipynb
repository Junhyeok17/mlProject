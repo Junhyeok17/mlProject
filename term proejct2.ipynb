import pandas as pd
import numpy as np

class Model:
    dataset = 0
    def __init__(self):
        return;
    
    def fit(self, data):
        dataset = data.groupby('QuestionId')

        question = []
        AnsStd = []
        correct = []

        for k, df in dataset:
            question.append(int(df['QuestionId'].mean()))
            AnsStd.append(df['AnswerValue'].std())
            correct.append(df['IsCorrect'].mean())

        data = pd.DataFrame({'QuestionId' : question,
                            'AnsStd' : AnsStd,
                            'IsCorrect' : correct})
        return data


data1 = pd.read_csv('C:/Users/junee/Untitled Folder/ML as/data/data/train_data/train_task_1_2.csv')

data = data1.drop(columns=['UserId', 'CorrectAnswer'], axis=0)

model = Model()
result = model.fit(data)
result = result.sort_values(['AnsStd', 'IsCorrect'], ascending=False)
result = result.reset_index(drop=True)
print(result)
