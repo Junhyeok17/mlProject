{
 "cells": [
  {
   "cell_type": "code",
   "execution_count": 2,
   "id": "c4e4d3ac",
   "metadata": {},
   "outputs": [
    {
     "name": "stdout",
     "output_type": "stream",
     "text": [
      "1\n"
     ]
    }
   ],
   "source": [
    "print(1)"
   ]
  },
  {
   "cell_type": "code",
   "execution_count": null,
   "id": "10b7d508",
   "metadata": {},
   "outputs": [],
   "source": [
    "import pandas as pd\n",
    "import numpy as np\n",
    "\n",
    "class Model:\n",
    "    dataset = 0\n",
    "    def __init__(self):\n",
    "        return;\n",
    "    \n",
    "    def fit(self, data):\n",
    "        dataset = data.copy()\n",
    "        data = data.groupby('QuestionId')\n",
    "        \n",
    "        question = list()\n",
    "        answerid = list()\n",
    "        std = list()\n",
    "        \n",
    "        for k, df in data:\n",
    "            #print(df['QuestionId'].mean(), df['AnswerValue'].std())\n",
    "            question.append(df['QuestionId'].mean())\n",
    "            answerid.append(df['AnswerId'].mean())\n",
    "            std.append(df['AnswerValue'].std())\n",
    "            \n",
    "        dataset = {'QuestionId' : question, 'AnswerId' : answerid, 'AnswerStd' : std}\n",
    "        tmp = pd.DataFrame(dataset)\n",
    "        tmp = tmp.sort_values(by=\"AnswerStd\", ascending=False) \n",
    "        return tmp\n",
    "        \n",
    "\n",
    "data1 = pd.read_csv('C:/Users/junee/Untitled Folder/ML as/data/data/train_data/train_task_1_2.csv')\n",
    "data2 = data1\n",
    "data2 = data2.drop(columns=['UserId', 'IsCorrect', 'CorrectAnswer'], axis=0)\n",
    "\n",
    "dataset = data2.groupby('QuestionId')\n",
    "\n",
    "model = Model()\n",
    "result = model.fit(data2)\n",
    "result.reset_index(inplace = True)\n",
    "\n",
    "rank = []\n",
    "for i in range(len(result)):\n",
    "    rank.append(i+1)\n",
    "    \n",
    "rank_dic = {'rank' : rank}\n",
    "tmp = pd.DataFrame(rank_dic)\n",
    "tmp.reset_index(inplace = True)\n",
    "\n",
    "tmp2 = pd.concat([result, tmp], axis=1)\n",
    "result = tmp2.drop(columns=['index', 'AnswerId', 'AnswerStd'])\n",
    "print(result)"
   ]
  },
  {
   "cell_type": "code",
   "execution_count": null,
   "id": "a1b24ef9",
   "metadata": {},
   "outputs": [],
   "source": []
  }
 ],
 "metadata": {
  "kernelspec": {
   "display_name": "Python 3 (ipykernel)",
   "language": "python",
   "name": "python3"
  },
  "language_info": {
   "codemirror_mode": {
    "name": "ipython",
    "version": 3
   },
   "file_extension": ".py",
   "mimetype": "text/x-python",
   "name": "python",
   "nbconvert_exporter": "python",
   "pygments_lexer": "ipython3",
   "version": "3.10.9"
  }
 },
 "nbformat": 4,
 "nbformat_minor": 5
}
