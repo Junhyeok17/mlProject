{
 "cells": [
  {
   "cell_type": "code",
   "execution_count": 2,
   "id": "c4e4d3ac",
   "metadata": {},
   "outputs": [
    {
     "name": "stdout",
     "output_type": "stream",
     "text": [
      "1\n"
     ]
    }
   ],
   "source": [
    "print(1)"
   ]
  },
  {
   "cell_type": "code",
   "execution_count": 39,
   "id": "10b7d508",
   "metadata": {
    "scrolled": false
   },
   "outputs": [
    {
     "name": "stdout",
     "output_type": "stream",
     "text": [
      "   QuestionId    AnsStd  IsCorrect\n",
      "0       18659  1.501690   0.717391\n",
      "1        6506  1.480327   0.440860\n",
      "2       14239  1.460767   0.574468\n",
      "3        7300  1.456107   0.562347\n",
      "4        7744  1.454334   0.467351\n"
     ]
    }
   ],
   "source": [
    "import pandas as pd\n",
    "import numpy as np\n",
    "\n",
    "class Model:\n",
    "    dataset = 0\n",
    "    def __init__(self):\n",
    "        return;\n",
    "    \n",
    "    def fit(self, data):\n",
    "        dataset = data.groupby('QuestionId')\n",
    "\n",
    "        question = []\n",
    "        AnsStd = []\n",
    "        correct = []\n",
    "\n",
    "        for k, df in dataset:\n",
    "            question.append(int(df['QuestionId'].mean()))\n",
    "            AnsStd.append(df['AnswerValue'].std())\n",
    "            correct.append(df['IsCorrect'].mean())\n",
    "\n",
    "        data = pd.DataFrame({'QuestionId' : question,\n",
    "                            'AnsStd' : AnsStd,\n",
    "                            'IsCorrect' : correct})\n",
    "        return data\n",
    "\n",
    "\n",
    "data1 = pd.read_csv('C:/Users/junee/Untitled Folder/ML as/data/data/train_data/train_task_1_2.csv')\n",
    "\n",
    "'''\n",
    "print('train dataset')\n",
    "print(data.info())\n",
    "print(data.describe())\n",
    "'''\n",
    "\n",
    "data = data1.drop(columns=['UserId', 'CorrectAnswer'], axis=0)\n",
    "\n",
    "model = Model()\n",
    "result = model.fit(data)\n",
    "result = result.sort_values(['AnsStd', 'IsCorrect'], ascending=False)\n",
    "result = result.reset_index(drop=True)\n",
    "print(result.head())"
   ]
  },
  {
   "cell_type": "code",
   "execution_count": null,
   "id": "a1b24ef9",
   "metadata": {},
   "outputs": [],
   "source": []
  }
 ],
 "metadata": {
  "kernelspec": {
   "display_name": "Python 3 (ipykernel)",
   "language": "python",
   "name": "python3"
  },
  "language_info": {
   "codemirror_mode": {
    "name": "ipython",
    "version": 3
   },
   "file_extension": ".py",
   "mimetype": "text/x-python",
   "name": "python",
   "nbconvert_exporter": "python",
   "pygments_lexer": "ipython3",
   "version": "3.10.9"
  }
 },
 "nbformat": 4,
 "nbformat_minor": 5
}
