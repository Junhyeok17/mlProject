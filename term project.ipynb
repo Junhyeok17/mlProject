{
 "cells": [
  {
   "cell_type": "code",
   "execution_count": 2,
   "id": "c4e4d3ac",
   "metadata": {},
   "outputs": [
    {
     "name": "stdout",
     "output_type": "stream",
     "text": [
      "1\n"
     ]
    }
   ],
   "source": [
    "print(1)"
   ]
  },
  {
   "cell_type": "code",
   "execution_count": 42,
   "id": "10b7d508",
   "metadata": {},
   "outputs": [
    {
     "name": "stdout",
     "output_type": "stream",
     "text": [
      "<class 'pandas.core.frame.DataFrame'>\n",
      "RangeIndex: 1382727 entries, 0 to 1382726\n",
      "Data columns (total 6 columns):\n",
      " #   Column         Non-Null Count    Dtype\n",
      "---  ------         --------------    -----\n",
      " 0   QuestionId     1382727 non-null  int64\n",
      " 1   UserId         1382727 non-null  int64\n",
      " 2   AnswerId       1382727 non-null  int64\n",
      " 3   IsCorrect      1382727 non-null  int64\n",
      " 4   CorrectAnswer  1382727 non-null  int64\n",
      " 5   AnswerValue    1382727 non-null  int64\n",
      "dtypes: int64(6)\n",
      "memory usage: 63.3 MB\n",
      "None\n",
      "     index  QuestionId       AnswerId  AnswerStd  index  rank\n",
      "0      606       606.0  775314.500000   1.732051      0     1\n",
      "1      427       427.0  694300.142857   1.463850      1     2\n",
      "2      832       832.0  597232.250000   1.414214      2     3\n",
      "3      820       820.0  780668.377270   1.410956      3     4\n",
      "4      428       428.0  413455.833333   1.378405      4     5\n",
      "..     ...         ...            ...        ...    ...   ...\n",
      "943    924       924.0  759748.973098   0.393601    943   944\n",
      "944    422       422.0  724204.180556   0.375469    944   945\n",
      "945    847       847.0  901974.500000   0.000000    945   946\n",
      "946    841       841.0  653323.500000   0.000000    946   947\n",
      "947    660       660.0  621586.166667   0.000000    947   948\n",
      "\n",
      "[948 rows x 6 columns]\n",
      "     QuestionId  rank\n",
      "0         606.0     1\n",
      "1         427.0     2\n",
      "2         832.0     3\n",
      "3         820.0     4\n",
      "4         428.0     5\n",
      "..          ...   ...\n",
      "943       924.0   944\n",
      "944       422.0   945\n",
      "945       847.0   946\n",
      "946       841.0   947\n",
      "947       660.0   948\n",
      "\n",
      "[948 rows x 2 columns]\n"
     ]
    }
   ],
   "source": [
    "import pandas as pd\n",
    "import numpy as np\n",
    "\n",
    "class Model:\n",
    "    dataset = 0\n",
    "    def __init__(self):\n",
    "        return;\n",
    "    \n",
    "    def fit(self, data):\n",
    "        dataset = data.copy()\n",
    "        data = data.groupby('QuestionId')\n",
    "        \n",
    "        question = list()\n",
    "        answerid = list()\n",
    "        std = list()\n",
    "        \n",
    "        for k, df in data:\n",
    "            #print(df['QuestionId'].mean(), df['AnswerValue'].std())\n",
    "            question.append(df['QuestionId'].mean())\n",
    "            answerid.append(df['AnswerId'].mean())\n",
    "            std.append(df['AnswerValue'].std())\n",
    "            \n",
    "        dataset = {'QuestionId' : question, 'AnswerId' : answerid, 'AnswerStd' : std}\n",
    "        tmp = pd.DataFrame(dataset)\n",
    "        tmp = tmp.sort_values(by=\"AnswerStd\", ascending=False) \n",
    "        return tmp\n",
    "        \n",
    "\n",
    "#data1 = pd.read_csv('C:/Users/junee/Untitled Folder/ML as/data/data/train_data/train_task_1_2.csv')\n",
    "data2 = pd.read_csv('C:/Users/junee/Untitled Folder/ML as/data/data/train_data/train_task_3_4.csv')\n",
    "\n",
    "#print(data1.info())\n",
    "print(data2.info())\n",
    "\n",
    "data2 = data2.drop(columns=['UserId', 'IsCorrect', 'CorrectAnswer'], axis=0)\n",
    "\n",
    "dataset = data2.groupby('QuestionId')\n",
    "\n",
    "#for k,df in dataset:\n",
    "#    print(k, len(df), df['AnswerValue'].std())\n",
    "\n",
    "model = Model()\n",
    "result = model.fit(data2)\n",
    "result.reset_index(inplace = True)\n",
    "\n",
    "rank = []\n",
    "for i in range(len(result)):\n",
    "    rank.append(i+1)\n",
    "    \n",
    "rank_dic = {'rank' : rank}\n",
    "tmp = pd.DataFrame(rank_dic)\n",
    "tmp.reset_index(inplace = True)\n",
    "\n",
    "tmp2 = pd.concat([result, tmp], axis=1)\n",
    "print(tmp2)\n",
    "#question = pd.DataFrame(tmp2['QuestionId'])\n",
    "#print(rank)\n",
    "#print(question)\n",
    "#result = pd.concat([rank, question], axis=1)\n",
    "#print(result)\n",
    "result = tmp2.drop(columns=['index', 'AnswerId', 'AnswerStd'])\n",
    "print(result)"
   ]
  },
  {
   "cell_type": "code",
   "execution_count": null,
   "id": "a1b24ef9",
   "metadata": {},
   "outputs": [],
   "source": []
  }
 ],
 "metadata": {
  "kernelspec": {
   "display_name": "Python 3 (ipykernel)",
   "language": "python",
   "name": "python3"
  },
  "language_info": {
   "codemirror_mode": {
    "name": "ipython",
    "version": 3
   },
   "file_extension": ".py",
   "mimetype": "text/x-python",
   "name": "python",
   "nbconvert_exporter": "python",
   "pygments_lexer": "ipython3",
   "version": "3.10.9"
  }
 },
 "nbformat": 4,
 "nbformat_minor": 5
}
